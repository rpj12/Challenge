{
 "cells": [
  {
   "cell_type": "markdown",
   "metadata": {},
   "source": [
    "Team : Ruila PUSKAS-JUHASZ and Agathe LHOPITEAU"
   ]
  },
  {
   "cell_type": "markdown",
   "metadata": {},
   "source": [
    "# Challenge SD-TSIA210"
   ]
  },
  {
   "cell_type": "code",
   "execution_count": 2,
   "metadata": {},
   "outputs": [
    {
     "name": "stderr",
     "output_type": "stream",
     "text": [
      "Using TensorFlow backend.\n"
     ]
    }
   ],
   "source": [
    "%matplotlib inline\n",
    "import numpy as np\n",
    "import sys\n",
    "import os\n",
    "import matplotlib.pyplot as plt\n",
    "import math\n",
    "from sklearn.neighbors import KNeighborsClassifier\n",
    "from sklearn.model_selection import cross_validate, train_test_split, GridSearchCV\n",
    "from sklearn.metrics import accuracy_score\n",
    "from sklearn import preprocessing\n",
    "from keras.models import Sequential\n",
    "from keras.layers import Dense, Activation, Flatten\n",
    "from keras import optimizers"
   ]
  },
  {
   "cell_type": "markdown",
   "metadata": {},
   "source": [
    "### Load and investigate the Data"
   ]
  },
  {
   "cell_type": "code",
   "execution_count": 3,
   "metadata": {},
   "outputs": [
    {
     "name": "stdout",
     "output_type": "stream",
     "text": [
      "(1068504, 37)\n",
      "(1068504,)\n"
     ]
    }
   ],
   "source": [
    "Xtrain = np.loadtxt('xtrain_challenge.csv', delimiter=',', skiprows = 1)\n",
    "Ytrain = np.loadtxt('ytrain_challenge.csv', delimiter=',', skiprows = 1)\n",
    "Xtest = np.loadtxt('xtest_challenge.csv', delimiter=',', skiprows = 1)\n",
    "\n",
    "#Let's check the shape of the training sets\n",
    "print(Xtrain.shape)\n",
    "print(Ytrain.shape)\n",
    "\n",
    "#Using our own training data to test\n",
    "#X_train, X_test, Y_train, Y_test = train_test_split(Xtrain, Ytrain, test_size = 0.20)\n",
    "#print(X_train.shape,Y_train.shape)\n",
    "#print(X_test.shape,Y_test.shape)"
   ]
  },
  {
   "cell_type": "markdown",
   "metadata": {},
   "source": [
    "Before processing and testing the data, we are goint to visualize it to see if it is linearly separable. "
   ]
  },
  {
   "cell_type": "code",
   "execution_count": 4,
   "metadata": {},
   "outputs": [
    {
     "data": {
      "image/png": "[encoded data removed]",
      "text/plain": [
       "<Figure size 432x288 with 1 Axes>"
      ]
     },
     "metadata": {
      "needs_background": "light"
     },
     "output_type": "display_data"
    }
   ],
   "source": [
    "#Let's visualize the first 10.000 inputs of our dataset\n",
    "from sklearn.manifold import TSNE\n",
    "X_embedded = TSNE(n_components=2).fit_transform(Xtrain[:10000])\n",
    "\n",
    "X,Y=[],[]\n",
    "for i in range(len(X_embedded)) :\n",
    "    X.append(X_embedded[i][0])\n",
    "    Y.append(X_embedded[i][1])\n",
    "\n",
    "plt.scatter(X, Y, c=Ytrain[:10000])\n",
    "plt.show()"
   ]
  },
  {
   "cell_type": "markdown",
   "metadata": {},
   "source": [
    "The distribution of the data is heterogenous, so we can separate it in two classes. \n",
    "<br> \n",
    "After this remark, we are going to scale the data to gain efficiency during the learning processes. "
   ]
  },
  {
   "cell_type": "code",
   "execution_count": 5,
   "metadata": {},
   "outputs": [],
   "source": [
    "#Scaling the data for more efficiency during learning processes\n",
    "Xtrain = preprocessing.scale(Xtrain)\n",
    "Xtest = preprocessing.scale(Xtest)"
   ]
  },
  {
   "cell_type": "markdown",
   "metadata": {},
   "source": [
    "## Let's try a few methods\n"
   ]
  },
  {
   "cell_type": "markdown",
   "metadata": {},
   "source": [
    "## Deep Neural Network"
   ]
  },
  {
   "cell_type": "code",
   "execution_count": 26,
   "metadata": {},
   "outputs": [
    {
     "name": "stdout",
     "output_type": "stream",
     "text": [
      "Epoch 1/10\n",
      "1068504/1068504 [==============================] - 18s 17us/step - loss: 0.0679 - accuracy: 0.9816\n",
      "Epoch 2/10\n",
      "1068504/1068504 [==============================] - 18s 17us/step - loss: 0.0186 - accuracy: 0.9976\n",
      "Epoch 3/10\n",
      "1068504/1068504 [==============================] - 18s 17us/step - loss: 0.0126 - accuracy: 0.9978\n",
      "Epoch 4/10\n",
      "1068504/1068504 [==============================] - 17s 16us/step - loss: 0.0103 - accuracy: 0.9980\n",
      "Epoch 5/10\n",
      "1068504/1068504 [==============================] - 19s 17us/step - loss: 0.0092 - accuracy: 0.9980\n",
      "Epoch 6/10\n",
      "1068504/1068504 [==============================] - 18s 17us/step - loss: 0.0085 - accuracy: 0.9980\n",
      "Epoch 7/10\n",
      "1068504/1068504 [==============================] - 18s 17us/step - loss: 0.0081 - accuracy: 0.9980\n",
      "Epoch 8/10\n",
      "1068504/1068504 [==============================] - 18s 17us/step - loss: 0.0077 - accuracy: 0.9980\n",
      "Epoch 9/10\n",
      "1068504/1068504 [==============================] - 18s 17us/step - loss: 0.0075 - accuracy: 0.9981\n",
      "Epoch 10/10\n",
      "1068504/1068504 [==============================] - 18s 17us/step - loss: 0.0073 - accuracy: 0.9981\n"
     ]
    }
   ],
   "source": [
    "from keras.layers import Dropout\n",
    "\n",
    "data = Xtrain\n",
    "labels = Ytrain\n",
    "modelDNN = Sequential()\n",
    "modelDNN.add(Dense(32,activation='softmax',input_dim=37))\n",
    "#modelDNN.add(Dropout(0.5))\n",
    "modelDNN.add(Dense(1, activation='sigmoid'))\n",
    "\n",
    "#modelDNN.compile(optimizer='rmsprop', loss='binary_crossentropy',metrics=['accuracy'])\n",
    "\n",
    "from keras.optimizers import SGD\n",
    "opt = SGD(lr=0.01)\n",
    "modelDNN.compile(loss = \"binary_crossentropy\", optimizer = opt, metrics = ['accuracy'])\n",
    "\n",
    "modelDNN.fit(data,labels,epochs=10,batch_size=32)\n",
    "Ypred_dnn = modelDNN.predict(Xtest)\n",
    " "
   ]
  },
  {
   "cell_type": "markdown",
   "metadata": {},
   "source": [
    "For 10000 features, we get good accuracies: 0.9627 0.9857 0.9592 0.9589 0.9589 0.9589 0.9859 0.9969 0.9973 0.9973 <br>\n",
    "For the whole dataset, the accuracy increases but not drastically: 0.9955 0.9976 0.9975 0.9976 0.9976 0.9977 0.9978 0.9978 0.997 0.9978 <br>\n",
    "These accuracies are not as good as good as a random forest alone. Hence, we will have to combine different algorithms to have a higher accuracy.  "
   ]
  },
  {
   "cell_type": "markdown",
   "metadata": {},
   "source": [
    "## Random Forest"
   ]
  },
  {
   "cell_type": "markdown",
   "metadata": {},
   "source": [
    "Before training the random forest algorithm, we are going to tune the parameters, that is,  the number of trees needed for the forest to correctly predict Xtest. To do that, we'll use a Grid Search. <br>\n",
    "We test three values 50, 100 and 200 because our manual tries showed that the number of tree is between 50 and 200, and that 100 is a presumably good number. Let's verify that this assumption is correct. "
   ]
  },
  {
   "cell_type": "code",
   "execution_count": 6,
   "metadata": {},
   "outputs": [
    {
     "name": "stdout",
     "output_type": "stream",
     "text": [
      "{'n_estimators': 100}\n"
     ]
    }
   ],
   "source": [
    "from sklearn.ensemble import RandomForestClassifier\n",
    "\n",
    "\n",
    "\n",
    "############################# First we apply a grid search to see which parameter is the best######\n",
    "rfclass = RandomForestClassifier()\n",
    "\n",
    "#Create a dictionnary of all values we want to test for n_estimators, aka the number of trees\n",
    "params_rf = {\"n_estimators\": [50, 100, 200]}\n",
    "\n",
    "#use gridsearch to test all values for n_estimators\n",
    "modelRF_gs = GridSearchCV(rfclass, params_rf, cv=5)\n",
    "\n",
    "# Fit on training data\n",
    "modelRF_gs.fit(Xtrain[:100000], Ytrain[:100000])\n",
    "\n",
    "#save best model\n",
    "rf_best = modelRF_gs.best_estimator_\n",
    "\n",
    "#check best n_estimators value\n",
    "print(modelRF_gs.best_params_)"
   ]
  },
  {
   "cell_type": "markdown",
   "metadata": {},
   "source": [
    "When we compute the grid search, we get : \n",
    "* for 1000 features : 100 trees\n",
    "* for 10 000 features : 50 trees\n",
    "* for 100 000 features : 100 trees\n",
    "* for the whole data set : 100 trees. \n",
    "\n",
    "<br> We will thus chose 100 trees for our random forest. "
   ]
  },
  {
   "cell_type": "code",
   "execution_count": 6,
   "metadata": {},
   "outputs": [
    {
     "data": {
      "text/plain": [
       "RandomForestClassifier(bootstrap=True, class_weight=None, criterion='gini',\n",
       "                       max_depth=None, max_features='sqrt', max_leaf_nodes=None,\n",
       "                       min_impurity_decrease=0.0, min_impurity_split=None,\n",
       "                       min_samples_leaf=1, min_samples_split=2,\n",
       "                       min_weight_fraction_leaf=0.0, n_estimators=100,\n",
       "                       n_jobs=None, oob_score=False, random_state=None,\n",
       "                       verbose=0, warm_start=False)"
      ]
     },
     "execution_count": 6,
     "metadata": {},
     "output_type": "execute_result"
    }
   ],
   "source": [
    "#from sklearn.model_selection import train_test_split\n",
    "#X_train, X_test, Y_train, Y_test = train_test_split(Xtrain, Ytrain, test_size = 0.20)\n",
    "\n",
    "from sklearn.ensemble import RandomForestClassifier\n",
    "# Create the model with 100 trees\n",
    "model = RandomForestClassifier(n_estimators=100, \n",
    "                               bootstrap = True,\n",
    "                               max_features = 'sqrt')\n",
    "# Fit on training data\n",
    "model.fit(Xtrain, Ytrain)"
   ]
  },
  {
   "cell_type": "code",
   "execution_count": 7,
   "metadata": {},
   "outputs": [],
   "source": [
    "Ypred_forest = model.predict(Xtest)"
   ]
  },
  {
   "cell_type": "code",
   "execution_count": null,
   "metadata": {},
   "outputs": [],
   "source": [
    "#Let's create our file that will be compared to Ytest\n",
    "np.savetxt('ytest_challenge_LHOPITEAU.csv', Ypred_forest, fmt = '%1.0d', delimiter=',')"
   ]
  },
  {
   "cell_type": "markdown",
   "metadata": {},
   "source": [
    "Using only this random forest, we have a pretty good result : accuracy of 0.998063463898. Moreover, the computing time isn't very long, so this method is pretty efficient and we decide to keep it for our ensemble learning."
   ]
  },
  {
   "cell_type": "markdown",
   "metadata": {},
   "source": [
    "## Logistic regression "
   ]
  },
  {
   "cell_type": "markdown",
   "metadata": {},
   "source": [
    "We don't need to do any fine-tuning Grid Search for the Logistic Regression classifier. Furthermore, the computing time is quite short so we decide to keep this method as well in our ensemble. "
   ]
  },
  {
   "cell_type": "code",
   "execution_count": 8,
   "metadata": {},
   "outputs": [
    {
     "name": "stderr",
     "output_type": "stream",
     "text": [
      "/Users/ruilapuskas/opt/anaconda3/lib/python3.7/site-packages/sklearn/linear_model/logistic.py:432: FutureWarning: Default solver will be changed to 'lbfgs' in 0.22. Specify a solver to silence this warning.\n",
      "  FutureWarning)\n"
     ]
    },
    {
     "data": {
      "text/plain": [
       "LogisticRegression(C=1.0, class_weight=None, dual=False, fit_intercept=True,\n",
       "                   intercept_scaling=1, l1_ratio=None, max_iter=1000,\n",
       "                   multi_class='warn', n_jobs=None, penalty='l2',\n",
       "                   random_state=None, solver='warn', tol=0.0001, verbose=0,\n",
       "                   warm_start=False)"
      ]
     },
     "execution_count": 8,
     "metadata": {},
     "output_type": "execute_result"
    }
   ],
   "source": [
    "from sklearn.linear_model import LogisticRegression\n",
    "logreg = LogisticRegression(max_iter=1000)\n",
    "logreg.fit(Xtrain, Ytrain)"
   ]
  },
  {
   "cell_type": "code",
   "execution_count": 9,
   "metadata": {},
   "outputs": [],
   "source": [
    "Ypred_logreg = logreg.predict(Xtest)"
   ]
  },
  {
   "cell_type": "code",
   "execution_count": 17,
   "metadata": {},
   "outputs": [],
   "source": [
    "#Let's create our file that will be compared to Ytest\n",
    "np.savetxt('ytest_challenge_LHOPITEAU.csv', Ypred_logreg, fmt = '%1.0d', delimiter=',')"
   ]
  },
  {
   "cell_type": "markdown",
   "metadata": {},
   "source": [
    "This method provides a pretty good accuracy : 0.9978, and is computed very quickly (less than 5 minutes). We thus decide to keep it for our futur ensemble learning."
   ]
  },
  {
   "cell_type": "markdown",
   "metadata": {},
   "source": [
    "## K-nearest neighbours"
   ]
  },
  {
   "cell_type": "code",
   "execution_count": 10,
   "metadata": {},
   "outputs": [
    {
     "name": "stdout",
     "output_type": "stream",
     "text": [
      "{'n_neighbors': 3}\n"
     ]
    }
   ],
   "source": [
    "############WITHOUT ENSEMBLES###################\n",
    "#We fix the number of neighbors equal to 100\n",
    "#clfKNN = KNeighborsClassifier(n_neighbors=100)\n",
    "#clfKNN = clfKNN.fit(Xtrain, Ytrain)\n",
    "\n",
    "#We predict the labels \n",
    "#Ypred_knn = clfKNN.predict(Xtest)\n",
    "\n",
    "#Compute the accuracy\n",
    "#accuracy_score(Ypred_knn, Y_test)\n",
    "\n",
    "\n",
    "###########WITH ENSEMBLES########################\n",
    "#create new a knn model\n",
    "knn = KNeighborsClassifier()\n",
    "\n",
    "#We want to test 30 different values for each neighbor\n",
    "params_knn = {'n_neighbors': np.arange(1, 9)}\n",
    "\n",
    "#use gridsearch to test all values for n_neighbors\n",
    "knn_gs = GridSearchCV(knn, params_knn, cv=3)\n",
    "\n",
    "#fit model to training data\n",
    "knn_gs.fit(Xtrain[:10000], Ytrain[:10000])\n",
    "\n",
    "#save best model\n",
    "knn_best = knn_gs.best_estimator_\n",
    "\n",
    "#check best n_neigbors value\n",
    "print(knn_gs.best_params_)\n",
    "\n",
    "#Prepare for submission\n",
    "#np.savetxt('ytest_knn.csv', Ypred_knn, fmt = '%1.0d', delimiter = ',')\n",
    "\n",
    "#Prepare for submission\n",
    "ytest_knn = knn_best.predict(Xtest)\n",
    "#np.savetxt('ytest_knn.csv', ytest_knn, fmt = '%1.0d', delimiter = ',')"
   ]
  },
  {
   "cell_type": "markdown",
   "metadata": {},
   "source": [
    "Knn is very quick for features under 100 000, after it is rather slow. To get free from this long computation of the grid search and of the fit, we will test manually the results given by this code for 1000, 10000, 100 000 features. We see that there is a tendancy: the number of neighbours seems to tend towards 3, so we will keep this parameter in the following cell. "
   ]
  },
  {
   "cell_type": "code",
   "execution_count": null,
   "metadata": {},
   "outputs": [],
   "source": [
    "####### DO NOT RUN #################\n",
    "modelKNN = KNeighborsClassifier(3)\n",
    "modelKNN.fit(Xtrain, Ytrain)\n",
    "Ypred_knn = modelKNN.predict(Xtest)"
   ]
  },
  {
   "cell_type": "markdown",
   "metadata": {},
   "source": [
    "When we use our own dataset (with a train_test_split), with the K-nearest neighbours method, we get a computation time of approximately 5 minutes and we get an accuracy of 0.9975245787338384, when we take 3 neighbors. \n",
    "<br> However, after running the above cell on the whole dataset, the program is still running after 16 hours! After trying different possibilities (Google Colab, connecting to a school computer) that didn't work because of connectivity problems mainly, we decided to drop this method and focus on the Deep Neural Network, the Random Forest and Logistic Regression and see how we can combine them."
   ]
  },
  {
   "cell_type": "markdown",
   "metadata": {},
   "source": [
    "## Now let's vote for best classifier"
   ]
  },
  {
   "cell_type": "code",
   "execution_count": 24,
   "metadata": {},
   "outputs": [],
   "source": [
    "Ypred = []\n",
    "for i in range(len(Ypred_logreg)):\n",
    "    if Ypred_logreg[i] + Ypred_forest[i] + Ypred_gb[i] >= 2 :\n",
    "        Ypred.append(1)\n",
    "    else :\n",
    "        Ypred.append(0)\n",
    "Ypred = np.array(Ypred)\n",
    "\n",
    "np.savetxt('ytest_challenge_LHOPITEAU_PUSKAS.csv', Ypred, fmt = '%1.0d', delimiter = ',')"
   ]
  },
  {
   "cell_type": "markdown",
   "metadata": {},
   "source": [
    "For 1000 features, we get a final accuracy of 0.9955 which is lower than when we use only the random forrest. \n",
    "When we increase the number of features however, this accuracy increases as well: 0.9976696412276966 for 10000 features"
   ]
  },
  {
   "cell_type": "markdown",
   "metadata": {},
   "source": [
    "## Gradient Boosting"
   ]
  },
  {
   "cell_type": "code",
   "execution_count": 22,
   "metadata": {},
   "outputs": [
    {
     "name": "stdout",
     "output_type": "stream",
     "text": [
      "Learning rate:  0.05\n",
      "Accuracy score (training): 0.997\n",
      "Learning rate:  0.075\n",
      "Accuracy score (training): 0.998\n",
      "Learning rate:  0.1\n",
      "Accuracy score (training): 0.998\n",
      "Learning rate:  0.25\n",
      "Accuracy score (training): 0.999\n",
      "Learning rate:  0.5\n",
      "Accuracy score (training): 0.998\n",
      "Learning rate:  0.75\n",
      "Accuracy score (training): 0.998\n",
      "Learning rate:  1\n",
      "Accuracy score (training): 0.997\n"
     ]
    }
   ],
   "source": [
    "from sklearn.preprocessing import MinMaxScaler\n",
    "from sklearn.model_selection import train_test_split\n",
    "from sklearn.metrics import classification_report, confusion_matrix\n",
    "from sklearn.ensemble import GradientBoostingClassifier\n",
    "\n",
    "#scaling the data\n",
    "#scaler = MinMaxScaler()\n",
    "#Xtrain = scaler.fit_transform(Xtrain)\n",
    "#Xtest = scaler.transform(Xtest)\n",
    "\n",
    "#learning rate list\n",
    "lr_list = [0.05, 0.075, 0.1, 0.25, 0.5, 0.75, 1]\n",
    "\n",
    "for learning_rate in lr_list:\n",
    "    gb_clf = GradientBoostingClassifier(n_estimators=50, learning_rate=learning_rate, max_features=2, max_depth=5, random_state=0)\n",
    "    gb_clf.fit(Xtrain, Ytrain)\n",
    "\n",
    "    print(\"Learning rate: \", learning_rate)\n",
    "    print(\"Accuracy score (training): {0:.3f}\".format(gb_clf.score(Xtrain, Ytrain)))\n",
    "    #print(\"Accuracy score (validation): {0:.3f}\".format(gb_clf.score(X_val, y_val)))"
   ]
  },
  {
   "cell_type": "code",
   "execution_count": 23,
   "metadata": {},
   "outputs": [],
   "source": [
    "gb_clf2 = GradientBoostingClassifier(n_estimators=50, learning_rate=0.25, max_features=2, max_depth=5, random_state=0)\n",
    "gb_clf2.fit(Xtrain, Ytrain)\n",
    "Ypred_gb = gb_clf2.predict(Xtest)\n",
    "\n",
    "#print(\"Confusion Matrix:\")\n",
    "# print(confusion_matrix(y_val, predictions))"
   ]
  },
  {
   "cell_type": "code",
   "execution_count": 25,
   "metadata": {},
   "outputs": [
    {
     "data": {
      "text/plain": [
       "array([0., 0., 0., ..., 0., 0., 0.])"
      ]
     },
     "execution_count": 25,
     "metadata": {},
     "output_type": "execute_result"
    }
   ],
   "source": [
    "Ypred_gb"
   ]
  },
  {
   "cell_type": "code",
   "execution_count": null,
   "metadata": {},
   "outputs": [],
   "source": []
  }
 ],
 "metadata": {
  "kernelspec": {
   "display_name": "Python 3",
   "language": "python",
   "name": "python3"
  },
  "language_info": {
   "codemirror_mode": {
    "name": "ipython",
    "version": 3
   },
   "file_extension": ".py",
   "mimetype": "text/x-python",
   "name": "python",
   "nbconvert_exporter": "python",
   "pygments_lexer": "ipython3",
   "version": "3.7.4"
  }
 },
 "nbformat": 4,
 "nbformat_minor": 4
}
